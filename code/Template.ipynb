{
    "metadata": {
        "kernelspec": {
            "name": "python3",
            "display_name": "Python 3 (ipykernel)",
            "language": "python"
        }
    },
    "nbformat": 4,
    "nbformat_minor": 5,
    "cells": [
        {
            "attachments": {},
            "cell_type": "markdown",
            "metadata": {},
            "source": [
                "## **Supervised Learning - Weather and Energy Demand**"
            ]
        },
        {
            "attachments": {},
            "cell_type": "markdown",
            "metadata": {},
            "source": [
                "In this project, we will be using supervised learning methods to predict how well weather components can predict energy demand."
            ]
        },
        {
            "cell_type": "code",
            "execution_count": 1,
            "metadata": {},
            "outputs": [],
            "source": [
                ""
            ]
        },
        {
            "attachments": {},
            "cell_type": "markdown",
            "metadata": {},
            "source": [
                "### **Data Linkage and Merge Dataset**\n",
                ""
            ]
        },
        {
            "cell_type": "code",
            "execution_count": 2,
            "metadata": {},
            "outputs": [],
            "source": [
                "import pandas as pd\n",
                "import datetime"
            ]
        },
        {
            "cell_type": "code",
            "execution_count": 3,
            "metadata": {},
            "outputs": [],
            "source": [
                "melb_df = pd.read_csv(\"weather_melbourne.csv\")\n",
                "pdd_df = pd.read_csv(\"price_demand_data.csv\")"
            ]
        },
        {
            "attachments": {},
            "cell_type": "markdown",
            "metadata": {},
            "source": [
                "First, we will convert the date formats. The date format for weather dataset is YYYY-MM-DD. We convert this to YYYY/MM/DD, which matches the date format for energy demand dataset."
            ]
        },
        {
            "cell_type": "code",
            "execution_count": 4,
            "metadata": {},
            "outputs": [],
            "source": [
                "# Change Date Format for Data Linkage\n",
                "date = melb_df[\"Date\"]\n",
                "melb_df.drop(labels=\"Date\", axis=1, inplace=True)\n",
                "new_date_format = []\n",
                "for value in date:\n",
                "    value = datetime.datetime.strptime(str(value), \"%Y-%m-%d\").strftime(\"%Y/%m/%d\")\n",
                "    new_date_format.append(value)\n",
                "melb_df.insert(0, \"Date\", new_date_format)"
            ]
        },
        {
            "attachments": {},
            "cell_type": "markdown",
            "metadata": {},
            "source": [
                "We are only interested in the data regarding the energy demand in Victoria, so we filter the dataset. We also modified the data format to only include the date and exclude the time. Next, we find the mean energy demand for each day."
            ]
        },
        {
            "cell_type": "code",
            "execution_count": 5,
            "metadata": {},
            "outputs": [],
            "source": [
                "# Filter out Melbourne Data\n",
                "pdd_melb = pdd_df[pdd_df[\"REGION\"] == \"VIC1\"]\n",
                "\n",
                "# Change date format to daily date\n",
                "date_list = []\n",
                "for date in pdd_melb[\"SETTLEMENTDATE\"]:\n",
                "    date_list.append(date[:-9])\n",
                "pdd_melb.insert(1, \"Date\", date_list)\n",
                "\n",
                "# Find mean of energy for each day \n",
                "pdd_melb = round(pdd_melb.groupby(\"Date\")[\"TOTALDEMAND\"].mean(), 2)\n",
                "pdd_melb.rename(\"TOTAL DEMAND\", inplace=True)\n",
                "pdd_melb.to_csv(\"pdd_melb.csv\")"
            ]
        },
        {
            "attachments": {},
            "cell_type": "markdown",
            "metadata": {},
            "source": [
                "Now, we merge the data using inner join."
            ]
        },
        {
            "cell_type": "code",
            "execution_count": 6,
            "metadata": {},
            "outputs": [
                {
                    "name": "stdout",
                    "output_type": "stream",
                    "text": "           Date  Minimum temperature (°C)  Maximum temperature (°C)  \\\n0    2021/02/01                      13.4                      20.3   \n1    2021/02/02                      14.5                      19.3   \n2    2021/02/03                      13.7                      25.9   \n3    2021/02/04                      13.5                      30.6   \n4    2021/02/05                      17.3                      29.8   \n..          ...                       ...                       ...   \n406  2022/03/14                      16.4                      28.0   \n407  2022/03/15                      18.3                      27.5   \n408  2022/03/16                      18.9                      23.2   \n409  2022/03/17                      17.7                      29.2   \n410  2022/03/18                      19.1                      21.7   \n\n     Rainfall (mm)  Evaporation (mm)  Sunshine (hours)  \\\n0              0.0               7.4               1.6   \n1              0.0               3.0               3.4   \n2              0.0               5.4              13.1   \n3              0.0               6.6               4.1   \n4              0.4               7.8               8.9   \n..             ...               ...               ...   \n406            0.4               5.0               9.3   \n407            2.0               6.2               3.6   \n408            0.0               3.6               1.7   \n409            0.0               4.6               5.0   \n410            0.0               5.0               2.0   \n\n    Direction of maximum wind gust   Speed of maximum wind gust (km/h)  \\\n0                                 S                               33.0   \n1                               SSW                               41.0   \n2                                SE                               33.0   \n3                               NNW                               43.0   \n4                               NNW                               52.0   \n..                              ...                                ...   \n406                             SSE                               31.0   \n407                             NNW                               31.0   \n408                             NNE                               41.0   \n409                               N                               33.0   \n410                               S                               31.0   \n\n    Time of maximum wind gust  9am Temperature (°C)  ...  9am wind direction  \\\n0                       21:08                  16.9  ...                   N   \n1                       14:52                  16.7  ...                   S   \n2                       16:58                  16.5  ...                 SSE   \n3                       12:58                  17.3  ...                  NE   \n4                       10:27                  24.1  ...                 NNE   \n..                        ...                   ...  ...                 ...   \n406                     15:58                  18.3  ...                       \n407                     10:16                  20.3  ...                 NNE   \n408                     10:29                  19.9  ...                   N   \n409                     09:28                  20.9  ...                 NNE   \n410                     13:14                  19.8  ...                 SSW   \n\n     9am wind speed (km/h) 9am MSL pressure (hPa) 3pm Temperature (°C)  \\\n0                        7                 1012.8                 19.4   \n1                       15                 1016.5                 18.2   \n2                       11                 1016.5                 24.1   \n3                        7                 1005.5                 29.2   \n4                       19                 1000.5                 25.9   \n..                     ...                    ...                  ...   \n406                   Calm                 1021.2                 25.6   \n407                      7                 1019.8                 24.8   \n408                      9                 1018.8                 22.2   \n409                      6                 1015.2                 27.8   \n410                      7                 1020.7                 20.8   \n\n     3pm relative humidity (%)  3pm cloud amount (oktas)  3pm wind direction  \\\n0                           69                       7.0                   S   \n1                           47                       7.0                 SSW   \n2                           44                       2.0                  SE   \n3                           32                       7.0                   N   \n4                           63                       7.0                 NNE   \n..                         ...                       ...                 ...   \n406                         64                       6.0                  SW   \n407                         57                       7.0                 SSW   \n408                         58                       7.0                   N   \n409                         53                       5.0                 NNW   \n410                         67                       7.0                 SSW   \n\n     3pm wind speed (km/h) 3pm MSL pressure (hPa) TOTAL DEMAND  \n0                       13                 1011.9      4677.07  \n1                       20                 1017.3      4422.40  \n2                        7                 1011.1      4420.83  \n3                       28                 1002.7      4952.52  \n4                       24                  997.5      5020.45  \n..                     ...                    ...          ...  \n406                      9                 1018.7      4370.21  \n407                     13                 1018.2      5005.89  \n408                     19                 1016.4      4832.51  \n409                     11                 1013.0      5101.26  \n410                     13                 1020.7      4791.69  \n\n[411 rows x 22 columns]\n"
                }
            ],
            "source": [
                "# Merge Data (Weather and Energy Demand)\n",
                "pdd_df = pd.read_csv(\"pdd_melb.csv\")\n",
                "merged_data = pd.merge(melb_df, pdd_df, how='inner')\n",
                "print(merged_data)"
            ]
        },
        {
            "attachments": {},
            "cell_type": "markdown",
            "metadata": {},
            "source": [
                "-------------------------"
            ]
        },
        {
            "attachments": {},
            "cell_type": "markdown",
            "metadata": {},
            "source": [
                "### **Divide Dataset to Training and Testing**"
            ]
        },
        {
            "attachments": {},
            "cell_type": "markdown",
            "metadata": {},
            "source": [
                "After merging, we divide the dataset to training (80%) and testing (20%). We will continue to preprocess the training data first."
            ]
        },
        {
            "cell_type": "code",
            "execution_count": 7,
            "metadata": {},
            "outputs": [],
            "source": [
                "from sklearn.model_selection import train_test_split\n",
                "\n",
                "train_data, test_data = train_test_split(merged_data, test_size=0.2)\n",
                "\n",
                "train_data.to_csv(\"training_melb_weather.csv\")\n",
                "test_data.to_csv(\"testing_melb_weather.csv\")"
            ]
        },
        {
            "attachments": {},
            "cell_type": "markdown",
            "metadata": {},
            "source": [
                "-------------------------"
            ]
        },
        {
            "attachments": {},
            "cell_type": "markdown",
            "metadata": {},
            "source": [
                "### **Preprocessing the Training Dataset**"
            ]
        },
        {
            "cell_type": "code",
            "execution_count": 8,
            "metadata": {},
            "outputs": [],
            "source": [
                "import numpy as np\n",
                "import matplotlib.pyplot as plt"
            ]
        },
        {
            "attachments": {},
            "cell_type": "markdown",
            "metadata": {},
            "source": [
                "We will start preprocessing the dataset by first filtering the data that we are interested in, which is quantitative data. Then, we deal with missing values by imputing them with the mean value"
            ]
        },
        {
            "cell_type": "code",
            "execution_count": 9,
            "metadata": {},
            "outputs": [],
            "source": [
                "melb_df = pd.read_csv(\"training_melb_weather.csv\")\n",
                "\n",
                "# Filter data: Only interested in Quantitative Data\n",
                "melb_weather = melb_df[[\"Date\", \"Minimum temperature (°C)\", \"Maximum temperature (°C)\", \"Rainfall (mm)\", \"Evaporation (mm)\", \n",
                "\"Sunshine (hours)\", \"Speed of maximum wind gust (km/h)\"]]\n",
                "\n",
                "# Missing Values: Impute Missing Values with Mean Data\n",
                "melb_imputed = melb_weather[[\"Minimum temperature (°C)\", \"Maximum temperature (°C)\", \"Rainfall (mm)\", \"Evaporation (mm)\", \n",
                "\"Sunshine (hours)\", \"Speed of maximum wind gust (km/h)\"]]\n",
                "melb_imputed = melb_imputed.fillna(melb_imputed.mean())\n",
                ""
            ]
        },
        {
            "attachments": {},
            "cell_type": "markdown",
            "metadata": {},
            "source": [
                "Now, we will also find the mean temperature for processing during a later stage. We use the formula $$\\frac{maximum  +  minimum}{2} \\\\ $$, where maximum is the maximum temperature and minimum is minimum temperature. We will also include the date.\n",
                ""
            ]
        },
        {
            "cell_type": "code",
            "execution_count": 10,
            "metadata": {},
            "outputs": [],
            "source": [
                "# Find Mean Temperature Value and Insert to Dataframe\n",
                "mean_temp = []\n",
                "for i in range(len(melb_imputed)):\n",
                "    mean_temp.append((melb_imputed[\"Minimum temperature (°C)\"][i] + melb_imputed[\"Maximum temperature (°C)\"][i])/2)\n",
                "melb_imputed.insert(2, \"Mean Temperature (°C)\", mean_temp)\n",
                "\n",
                "# Include date \n",
                "melb_imputed.insert(0, \"Date\", melb_weather[\"Date\"])\n",
                "melb_imputed.set_index(\"Date\", drop=True, inplace=True)\n",
                "melb_imputed.to_csv(\"melb_weather.csv\")"
            ]
        },
        {
            "attachments": {},
            "cell_type": "markdown",
            "metadata": {},
            "source": [
                "Next, we will normalize the values."
            ]
        },
        {
            "cell_type": "code",
            "execution_count": 11,
            "metadata": {},
            "outputs": [],
            "source": [
                "# Normalize: Rescale the values to be between 0 and 1\n",
                "melb_normalized = (melb_imputed - melb_imputed.min()) / (melb_imputed.max() - melb_imputed.min())\n",
                "\n",
                "# Output pre-processed normalized Melbourne Weather Dataset as csv\n",
                "melb_normalized.to_csv(\"melb_weather_normalized.csv\") \n",
                ""
            ]
        },
        {
            "attachments": {},
            "cell_type": "markdown",
            "metadata": {},
            "source": [
                "We will also normalize the energy demand dataset."
            ]
        },
        {
            "cell_type": "code",
            "execution_count": 12,
            "metadata": {},
            "outputs": [],
            "source": [
                "#Get and normalize price demand datas\n",
                "pdd_melb = melb_df[[\"Date\", \"TOTAL DEMAND\"]]\n",
                "\n",
                "# Output pre-processed Melbourne Price Demand Dataset as csv\n",
                "pdd_melb.to_csv(\"new_pdd_melb.csv\")\n",
                "\n",
                "# Normalize: Rescale the values to be between 0 and 1\n",
                "pdd_melb_normalized = (pdd_melb[\"TOTAL DEMAND\"] - pdd_melb[\"TOTAL DEMAND\"].min()) / (pdd_melb[\"TOTAL DEMAND\"].max() - pdd_melb[\"TOTAL DEMAND\"].min())\n",
                "pdd_melb.insert(1, \"Normalized\", pdd_melb_normalized)\n",
                "pdd_melb.to_csv(\"pdd_melb_normalized.csv\")"
            ]
        },
        {
            "attachments": {},
            "cell_type": "markdown",
            "metadata": {},
            "source": [
                "---------------------------"
            ]
        },
        {
            "attachments": {},
            "cell_type": "markdown",
            "metadata": {},
            "source": [
                "### **Visualization**"
            ]
        },
        {
            "attachments": {},
            "cell_type": "markdown",
            "metadata": {},
            "source": [
                "In this section, we will visualize various weather components against the energy demand."
            ]
        },
        {
            "attachments": {},
            "cell_type": "markdown",
            "metadata": {},
            "source": [
                "First, we will visualize minimum temperature (°C) against the energy demand (kWh).\n",
                "\n",
                "From this plot, we can see a correlation between minimum temperature and energy demand, although it is not linear, but U-shaped."
            ]
        },
        {
            "cell_type": "code",
            "execution_count": 13,
            "metadata": {},
            "outputs": [
                {
                    "data": {
                        "image/png": "[encoded data removed]",
                        "text/plain": "\u003cFigure size 432x288 with 1 Axes\u003e"
                    },
                    "metadata": {
                        "needs_background": "light"
                    },
                    "output_type": "display_data"
                }
            ],
            "source": [
                "melb_df = pd.read_csv(\"melb_weather.csv\")\n",
                "pdd_melb_df = pd.read_csv(\"pdd_melb.csv\")\n",
                "mintemp_demand = pd.merge(melb_df[[\"Date\", \"Minimum temperature (°C)\"]], pdd_melb_df, how='inner')\n",
                "mintemp_demand.set_index(\"Date\", inplace=True)\n",
                " \n",
                "plt.scatter(mintemp_demand[\"Minimum temperature (°C)\"], mintemp_demand[\"TOTAL DEMAND\"])\n",
                "plt.xlabel(\"Min temperature (°C)\")\n",
                "plt.ylabel(\"Total Energy Demand\")\n",
                "plt.title(\"Melbourne\")\n",
                "plt.subplots_adjust(bottom=0.3)\n",
                "plt.savefig(\"unnorm_mintemp_demand_melb.png\")\n",
                "plt.show()\n",
                "plt.close()"
            ]
        },
        {
            "attachments": {},
            "cell_type": "markdown",
            "metadata": {},
            "source": [
                "Second, we plot the mean temperature (°C), that we calculated previously, against the energy demand (kWh).  A u-shaped (open parabola-like) correlation can be observed. The high energy demands occur during periods of low and high temperature, while low energy demands occur when temperature is not too hot or cold."
            ]
        },
        {
            "cell_type": "code",
            "execution_count": 14,
            "metadata": {},
            "outputs": [
                {
                    "data": {
                        "image/png": "[encoded data removed]",
                        "text/plain": "\u003cFigure size 432x288 with 1 Axes\u003e"
                    },
                    "metadata": {
                        "needs_background": "light"
                    },
                    "output_type": "display_data"
                }
            ],
            "source": [
                "temp_demand = pd.merge(melb_df[[\"Date\", \"Mean Temperature (°C)\"]], pdd_melb_df, how='inner')\n",
                "temp_demand.set_index(\"Date\", inplace=True)\n",
                " \n",
                "plt.scatter(temp_demand[\"Mean Temperature (°C)\"], temp_demand[\"TOTAL DEMAND\"])\n",
                "plt.xlabel(\"Mean temperature (°C)\")\n",
                "plt.ylabel(\"Energy Demand (kWh)\")\n",
                "plt.title(\"Melbourne\")\n",
                "plt.subplots_adjust(bottom=0.3)\n",
                "plt.savefig(\"unnorm_temp_demand_melb.png\")\n",
                "plt.show()\n",
                "plt.close()"
            ]
        },
        {
            "attachments": {},
            "cell_type": "markdown",
            "metadata": {},
            "source": [
                "Third, we plot the maximum temperature against energy demand. We observe a similar relationship between energy demand and maximum temperature, as minimum and mean temperature. However, the correlation seems weaker than the mean temperature."
            ]
        },
        {
            "cell_type": "code",
            "execution_count": 15,
            "metadata": {},
            "outputs": [
                {
                    "data": {
                        "image/png": "[encoded data removed]",
                        "text/plain": "\u003cFigure size 432x288 with 1 Axes\u003e"
                    },
                    "metadata": {
                        "needs_background": "light"
                    },
                    "output_type": "display_data"
                }
            ],
            "source": [
                "maxtemp_demand = pd.merge(melb_df[[\"Date\", \"Maximum temperature (°C)\"]], pdd_melb_df, how='inner')\n",
                "maxtemp_demand.set_index(\"Date\", inplace=True)\n",
                "\n",
                "plt.scatter(maxtemp_demand[\"Maximum temperature (°C)\"], maxtemp_demand[\"TOTAL DEMAND\"])\n",
                "plt.xlabel(\"Max temperature (°C)\")\n",
                "plt.ylabel(\"Energy Demand (kWh\")\n",
                "plt.title(\"Melbourne\")\n",
                "plt.subplots_adjust(bottom=0.3)\n",
                "plt.savefig(\"unnorm_maxtemp_demand_melb.png\")\n",
                "plt.show()\n",
                "plt.close()"
            ]
        },
        {
            "attachments": {},
            "cell_type": "markdown",
            "metadata": {},
            "source": [
                "Next, we will visualize the speed of maximum wind gust (km/h) against demand (kWh). "
            ]
        },
        {
            "cell_type": "code",
            "execution_count": 16,
            "metadata": {},
            "outputs": [
                {
                    "data": {
                        "image/png": "[encoded data removed]",
                        "text/plain": "\u003cFigure size 432x288 with 1 Axes\u003e"
                    },
                    "metadata": {
                        "needs_background": "light"
                    },
                    "output_type": "display_data"
                }
            ],
            "source": [
                "windspeed_demand = pd.merge(melb_df[[\"Date\", \"Speed of maximum wind gust (km/h)\"]], pdd_melb_df, how='inner')\n",
                "windspeed_demand.set_index(\"Date\", inplace=True)\n",
                "\n",
                "plt.scatter(windspeed_demand[\"Speed of maximum wind gust (km/h)\"], windspeed_demand[\"TOTAL DEMAND\"])\n",
                "plt.xlabel(\"Speed of Maximum Wind Gust (km/h)\")\n",
                "plt.ylabel(\"Energy Demand (kWh)\")\n",
                "plt.title(\"Melbourne\")\n",
                "plt.subplots_adjust(bottom=0.3)\n",
                "plt.savefig(\"unnorm_windspeed_demand_melb.png\")\n",
                "plt.show()\n",
                "plt.close()"
            ]
        },
        {
            "attachments": {},
            "cell_type": "markdown",
            "metadata": {},
            "source": [
                "Now, we will visualize sunshine (hours) against energy demand (kWh). Visually, we see that there are no correlations between the two variables."
            ]
        },
        {
            "cell_type": "code",
            "execution_count": 17,
            "metadata": {},
            "outputs": [
                {
                    "data": {
                        "image/png": "[encoded data removed]",
                        "text/plain": "\u003cFigure size 432x288 with 1 Axes\u003e"
                    },
                    "metadata": {
                        "needs_background": "light"
                    },
                    "output_type": "display_data"
                }
            ],
            "source": [
                "sunshine_demand = pd.merge(melb_df[[\"Date\", \"Sunshine (hours)\"]], pdd_melb_df, how='inner')\n",
                "sunshine_demand.set_index(\"Date\", inplace=True)\n",
                "\n",
                "plt.scatter(sunshine_demand[\"Sunshine (hours)\"], sunshine_demand[\"TOTAL DEMAND\"])\n",
                "plt.xlabel(\"Sunshine (hours)\")\n",
                "plt.ylabel(\"Energy Demand (kWh)\")\n",
                "plt.title(\"Melbourne\")\n",
                "plt.subplots_adjust(bottom=0.3)\n",
                "plt.savefig(\"unnorm_sunshine_demand_melb.png\")\n",
                "plt.show()\n",
                "plt.close()"
            ]
        },
        {
            "attachments": {},
            "cell_type": "markdown",
            "metadata": {},
            "source": [
                "Next, we visualize rainfall (mm) against energy demand (kWh). We see that in most days, there are zero or little rainfall."
            ]
        },
        {
            "cell_type": "code",
            "execution_count": 18,
            "metadata": {},
            "outputs": [
                {
                    "data": {
                        "image/png": "[encoded data removed]",
                        "text/plain": "\u003cFigure size 432x288 with 1 Axes\u003e"
                    },
                    "metadata": {
                        "needs_background": "light"
                    },
                    "output_type": "display_data"
                }
            ],
            "source": [
                "rainfall_demand = pd.merge(melb_df[[\"Date\", \"Rainfall (mm)\"]], pdd_melb_df, how='inner')\n",
                "rainfall_demand.set_index(\"Date\", inplace=True)\n",
                "\n",
                "plt.scatter(rainfall_demand[\"Rainfall (mm)\"], rainfall_demand[\"TOTAL DEMAND\"])\n",
                "plt.xlabel(\"Rainfall (mm)\")\n",
                "plt.ylabel(\"Energy Demand (kWh\")\n",
                "plt.title(\"Melbourne\")\n",
                "plt.subplots_adjust(bottom=0.3)\n",
                "plt.savefig(\"unnorm_rainfall_demand_melb.png\")\n",
                "plt.show()\n",
                "plt.close()"
            ]
        },
        {
            "attachments": {},
            "cell_type": "markdown",
            "metadata": {},
            "source": [
                "Lastly, we plot the evaporation (mm) against energy demand (kWh). We can see that the lower the evaporation, the higher the energy demand. However, there are also some instances where the evaporation is high and the energy demand is also high. A somewhat weak u-shaped correlation can be observed."
            ]
        },
        {
            "cell_type": "code",
            "execution_count": 19,
            "metadata": {},
            "outputs": [
                {
                    "data": {
                        "image/png": "[encoded data removed]",
                        "text/plain": "\u003cFigure size 432x288 with 1 Axes\u003e"
                    },
                    "metadata": {
                        "needs_background": "light"
                    },
                    "output_type": "display_data"
                }
            ],
            "source": [
                "evaporation_demand = pd.merge(melb_df[[\"Date\", \"Evaporation (mm)\"]], pdd_melb_df, how='inner')\n",
                "evaporation_demand.set_index(\"Date\", inplace=True)\n",
                "\n",
                "plt.scatter(evaporation_demand[\"Evaporation (mm)\"], evaporation_demand[\"TOTAL DEMAND\"])\n",
                "plt.xlabel(\"Evaporation (mm)\")\n",
                "plt.ylabel(\"Energy Demand (kWh)\")\n",
                "plt.title(\"Melbourne\")\n",
                "plt.subplots_adjust(bottom=0.3)\n",
                "plt.savefig(\"unnorm_evaporation_demand_melb.png\")\n",
                "plt.show()\n",
                "plt.close()\n",
                ""
            ]
        },
        {
            "attachments": {},
            "cell_type": "markdown",
            "metadata": {},
            "source": [
                "After visualization, we can see that temperature (minimum, mean and maximum) shows the most correlation with the energy demand. The correlation is not linear, but U-shaped. Lower and higher temperatures correspond to high energy demand, while moderate temperatures correspond to low energy demand."
            ]
        },
        {
            "attachments": {},
            "cell_type": "markdown",
            "metadata": {},
            "source": [
                "------------------------------------------------"
            ]
        },
        {
            "attachments": {},
            "cell_type": "markdown",
            "metadata": {},
            "source": [
                "### **General Statistics**"
            ]
        },
        {
            "attachments": {},
            "cell_type": "markdown",
            "metadata": {},
            "source": [
                "We can also explore some general statistics of our dataset, such as the mean, standard deviation and more. From exploring these statistics, we gain a better feel and understanding of our dataset as a whole."
            ]
        },
        {
            "cell_type": "code",
            "execution_count": 20,
            "metadata": {},
            "outputs": [
                {
                    "name": "stdout",
                    "output_type": "stream",
                    "text": "       Minimum temperature (°C)  Maximum temperature (°C)  \\\ncount                328.000000                328.000000   \nmean                  11.906116                 20.657187   \nstd                    3.967956                  5.620202   \nmin                    3.000000                 11.300000   \n25%                    9.100000                 16.200000   \n50%                   11.500000                 19.750000   \n75%                   14.900000                 23.525000   \nmax                   21.700000                 37.700000   \n\n       Mean Temperature (°C)  Rainfall (mm)  Evaporation (mm)  \\\ncount             328.000000     328.000000        328.000000   \nmean               16.281651       1.786544          4.608232   \nstd                 4.434768       5.343818          2.778086   \nmin                 8.450000       0.000000          0.000000   \n25%                12.687500       0.000000          2.400000   \n50%                15.750000       0.000000          4.200000   \n75%                19.500000       0.800000          6.400000   \nmax                27.800000      45.400000         13.600000   \n\n       Sunshine (hours)  Speed of maximum wind gust (km/h)  TOTAL DEMAND  \ncount        328.000000                         328.000000    328.000000  \nmean           6.323780                          35.862385   4726.826433  \nstd            3.913841                          10.396248    572.451951  \nmin            0.000000                          15.000000   3266.120000  \n25%            2.975000                          30.000000   4330.025000  \n50%            6.200000                          35.000000   4688.525000  \n75%            9.325000                          41.000000   5089.587500  \nmax           13.700000                          76.000000   6231.440000  \n"
                }
            ],
            "source": [
                "melb_nn = pd.merge(melb_df, pdd_melb_df, how='inner')\n",
                "stats = melb_nn.describe()\n",
                "print(stats)"
            ]
        },
        {
            "attachments": {},
            "cell_type": "markdown",
            "metadata": {},
            "source": [
                "-------------------------"
            ]
        },
        {
            "attachments": {},
            "cell_type": "markdown",
            "metadata": {},
            "source": [
                "### **Feature Selection**"
            ]
        },
        {
            "attachments": {},
            "cell_type": "markdown",
            "metadata": {},
            "source": [
                "In this section, we will conduct feature selection. We want to only select features that has a relationship with the energy demand. This would reduce the number of input variables when we develop our model."
            ]
        },
        {
            "attachments": {},
            "cell_type": "markdown",
            "metadata": {},
            "source": [
                "Previously, during visualization, we see that none of the weather components have a linear relationship with the energy demand. We can only see an u-shaped relationship. Therefore, we cannot use Pearson's correlation to determine whether a weather component correlates well with energy demand. Instead, we will use mutual information, to find the \"amount of information\" obtained about energy demand by observing each weather component. The higher the mutual information, the more the weather component tells us more information about the energy demand."
            ]
        },
        {
            "attachments": {},
            "cell_type": "markdown",
            "metadata": {},
            "source": [
                "### Discretization"
            ]
        },
        {
            "attachments": {},
            "cell_type": "markdown",
            "metadata": {},
            "source": [
                "Before we can compute mutual information, we should discretize our continuous data first. To determine the number of bins to discretize our data, we use the Freedman-Diaconis rule, which is :\n",
                "\n",
                "$$\\frac{max-min}{h} \\\\ $$ where h is\n",
                "$$ 2*IQR*n^{-1/3}$$"
            ]
        },
        {
            "cell_type": "code",
            "execution_count": 21,
            "metadata": {},
            "outputs": [
                {
                    "name": "stdout",
                    "output_type": "stream",
                    "text": "Minimum temperature (°C) 11\nMaximum temperature (°C) 12\nMean Temperature (°C) 9\nRainfall (mm) 195\nEvaporation (mm) 11\nSunshine (hours) 7\nSpeed of maximum wind gust (km/h) 19\nTOTAL DEMAND 13\n           Date  Minimum temperature (°C)  Maximum temperature (°C)  \\\n0    2021/03/07                      11.3                      28.5   \n1    2021/08/21                      10.6                      20.0   \n2    2021/10/01                      13.6                      22.2   \n3    2021/09/05                       8.3                      13.6   \n4    2021/09/15                       5.3                      15.9   \n..          ...                       ...                       ...   \n323  2021/11/22                      10.2                      20.8   \n324  2021/05/24                       6.8                      19.9   \n325  2022/02/24                      19.3                      22.7   \n326  2021/06/20                       5.2                      14.5   \n327  2022/01/10                      15.5                      31.4   \n\n     Mean Temperature (°C)  Rainfall (mm)  Evaporation (mm)  Sunshine (hours)  \\\n0                    19.90            0.0               6.0               7.9   \n1                    15.30            1.0               3.6              10.2   \n2                    17.90           21.8               2.8               5.8   \n3                    10.95            9.6               4.4               6.4   \n4                    10.60            0.2               3.0              10.8   \n..                     ...            ...               ...               ...   \n323                  15.50            0.0               5.0              11.4   \n324                  13.35            0.0               2.6               4.8   \n325                  21.00            0.0               6.8               2.9   \n326                   9.85            0.0               0.0               6.9   \n327                  23.45            0.2               6.8              10.9   \n\n     Speed of maximum wind gust (km/h)  TOTAL DEMAND  \\\n0                                 26.0       4128.66   \n1                                 33.0       4324.88   \n2                                 30.0       4546.66   \n3                                 39.0       4286.13   \n4                                 31.0       4929.07   \n..                                 ...           ...   \n323                               24.0       4140.19   \n324                               31.0       5052.52   \n325                               37.0       5046.33   \n326                               20.0       4992.05   \n327                               31.0       4912.22   \n\n     Binned Minimum temperature (°C)  Binned Maximum temperature (°C)  \\\n0                                  4                                7   \n1                                  4                                3   \n2                                  6                                4   \n3                                  3                                1   \n4                                  1                                2   \n..                               ...                              ...   \n323                                4                                4   \n324                                2                                3   \n325                                9                                5   \n326                                1                                1   \n327                                7                                9   \n\n     Binned Mean Temperature (°C)  Binned Rainfall (mm)  \\\n0                               5                     0   \n1                               3                     4   \n2                               4                    93   \n3                               1                    41   \n4                               1                     0   \n..                            ...                   ...   \n323                             3                     0   \n324                             2                     0   \n325                             5                     0   \n326                             0                     0   \n327                             6                     0   \n\n     Binned Evaporation (mm)  Binned Sunshine (hours)  \\\n0                          4                        4   \n1                          2                        5   \n2                          2                        2   \n3                          3                        3   \n4                          2                        5   \n..                       ...                      ...   \n323                        4                        5   \n324                        2                        2   \n325                        5                        1   \n326                        0                        3   \n327                        5                        5   \n\n     Binned Speed of maximum wind gust (km/h)  Binned TOTAL DEMAND  \n0                                           3                    3  \n1                                           5                    4  \n2                                           4                    5  \n3                                           7                    4  \n4                                           4                    7  \n..                                        ...                  ...  \n323                                         2                    3  \n324                                         4                    7  \n325                                         6                    7  \n326                                         1                    7  \n327                                         4                    7  \n\n[328 rows x 17 columns]\n"
                }
            ],
            "source": [
                "from sklearn.preprocessing import KBinsDiscretizer\n",
                "melb_bins = melb_nn\n",
                "for feature in melb_bins.iloc[:,1:]:\n",
                "    q3, q1 = np.percentile(melb_bins[feature], [75, 25])\n",
                "    iqr = q3 - q1\n",
                "    h = 2 * iqr / len(melb_bins)**(1/3)\n",
                "    bins = int((melb_bins[feature].max() - melb_bins[feature].min()) / h) # Find number of bins\n",
                "    print(feature, bins)\n",
                "    equal_width = KBinsDiscretizer(n_bins=bins, encode='ordinal', strategy='uniform')\n",
                "    melb_bins[\"Binned \" + feature] = equal_width.fit_transform(melb_bins[feature].to_numpy().reshape(-1, 1)).astype(int)\n",
                "print(melb_bins)"
            ]
        },
        {
            "attachments": {},
            "cell_type": "markdown",
            "metadata": {},
            "source": [
                "### Mutual Information"
            ]
        },
        {
            "attachments": {},
            "cell_type": "markdown",
            "metadata": {},
            "source": [
                "Now, we will calculate the mutual information between each weather component and the total demand. We set the threshold to be 0.2. If the mutual information is lower than the threshold, then we assume that the weather component does not predict energy demand. Thus, we exclude those components and only select features that have higher MI than the threshold."
            ]
        },
        {
            "cell_type": "code",
            "execution_count": 22,
            "metadata": {},
            "outputs": [],
            "source": [
                "from sklearn.feature_selection import mutual_info_classif"
            ]
        },
        {
            "cell_type": "code",
            "execution_count": 23,
            "metadata": {},
            "outputs": [
                {
                    "name": "stdout",
                    "output_type": "stream",
                    "text": "MI value for feature \"Binned Minimum temperature (°C)\": 0.3076\nMI value for feature \"Binned Maximum temperature (°C)\": 0.3888\nMI value for feature \"Binned Mean Temperature (°C)\": 0.4121\nMI value for feature \"Binned Rainfall (mm)\": 0.4386\nMI value for feature \"Binned Evaporation (mm)\": 0.2931\nMI value for feature \"Binned Sunshine (hours)\": 0.1856\nMI value for feature \"Binned Speed of maximum wind gust (km/h)\": 0.3063\nMI value for feature \"Binned TOTAL DEMAND\": 2.3116\n\nFeature set after filtering with MI: ['Binned Minimum temperature (°C)', 'Binned Maximum temperature (°C)', 'Binned Mean Temperature (°C)', 'Binned Rainfall (mm)', 'Binned Evaporation (mm)', 'Binned Speed of maximum wind gust (km/h)', 'Binned TOTAL DEMAND']\n"
                }
            ],
            "source": [
                "filtered_features = []\n",
                "THRESHOLD = 0.2\n",
                "features = melb_bins[[\"Binned Minimum temperature (°C)\", \"Binned Maximum temperature (°C)\", \"Binned Mean Temperature (°C)\", \"Binned Rainfall (mm)\", \"Binned Evaporation (mm)\", \"Binned Sunshine (hours)\", \"Binned Speed of maximum wind gust (km/h)\", \"Binned TOTAL DEMAND\"]]\n",
                "class_label = melb_bins[\"Binned TOTAL DEMAND\"]\n",
                "mi_arr = mutual_info_classif(X=features, y=class_label, discrete_features=True)\n",
                "for feature, mi in zip(features.columns, mi_arr):\n",
                "    print(f'MI value for feature \"{feature}\": {mi:.4f}')\n",
                "    if(mi \u003e= THRESHOLD): \n",
                "        filtered_features.append(feature)\n",
                "        \n",
                "print('\\nFeature set after filtering with MI:', filtered_features)\n",
                "\n",
                "filtered_data = []\n",
                "for feature in filtered_features:\n",
                "    filtered_data.append(melb_bins[feature])\n",
                "filtered_melb = (pd.DataFrame(filtered_data)).T\n",
                "demand = melb_bins[\"Binned TOTAL DEMAND\"]\n",
                "filtered_melb.insert(0, \"Binned_Total_Demand\", demand)\n",
                "filtered_melb.to_csv(\"filtered_melb_weather.csv\")"
            ]
        },
        {
            "attachments": {},
            "cell_type": "markdown",
            "metadata": {},
            "source": [
                "## **KNN Model with K-fold cross validation**"
            ]
        },
        {
            "attachments": {},
            "cell_type": "markdown",
            "metadata": {},
            "source": [
                "We have conducted most of the data wrangling. However, there is one step left in our data wrangling process. That is, we have to discretize our data again, but with a non-variable number of bins. This is because the training and testing data have different lengths, while the number of bins for both data should be the same."
            ]
        },
        {
            "cell_type": "code",
            "execution_count": 24,
            "metadata": {},
            "outputs": [
                {
                    "name": "stdout",
                    "output_type": "stream",
                    "text": "     Minimum temperature (°C)  Mean Temperature (°C)  \\\n0                    0.443850               0.591731   \n1                    0.406417               0.354005   \n2                    0.566845               0.488372   \n3                    0.283422               0.129199   \n4                    0.122995               0.111111   \n..                        ...                    ...   \n323                  0.385027               0.364341   \n324                  0.203209               0.253230   \n325                  0.871658               0.648579   \n326                  0.117647               0.072351   \n327                  0.668449               0.775194   \n\n     Maximum temperature (°C)  Rainfall (mm)  Evaporation (mm)  \\\n0                    0.651515       0.000000          0.441176   \n1                    0.329545       0.022026          0.264706   \n2                    0.412879       0.480176          0.205882   \n3                    0.087121       0.211454          0.323529   \n4                    0.174242       0.004405          0.220588   \n..                        ...            ...               ...   \n323                  0.359848       0.000000          0.367647   \n324                  0.325758       0.000000          0.191176   \n325                  0.431818       0.000000          0.500000   \n326                  0.121212       0.000000          0.000000   \n327                  0.761364       0.004405          0.500000   \n\n     Speed of maximum wind gust (km/h)  TOTAL DEMAND  \\\n0                             0.180328       4128.66   \n1                             0.295082       4324.88   \n2                             0.245902       4546.66   \n3                             0.393443       4286.13   \n4                             0.262295       4929.07   \n..                                 ...           ...   \n323                           0.147541       4140.19   \n324                           0.262295       5052.52   \n325                           0.360656       5046.33   \n326                           0.081967       4992.05   \n327                           0.262295       4912.22   \n\n     Binned Minimum temperature (°C)  Binned Mean Temperature (°C)  \\\n0                                  2                             2   \n1                                  2                             1   \n2                                  2                             2   \n3                                  1                             0   \n4                                  0                             0   \n..                               ...                           ...   \n323                                1                             1   \n324                                1                             1   \n325                                4                             3   \n326                                0                             0   \n327                                3                             3   \n\n     Binned Maximum temperature (°C)  Binned Rainfall (mm)  \\\n0                                  3                     0   \n1                                  1                     0   \n2                                  2                     2   \n3                                  0                     1   \n4                                  0                     0   \n..                               ...                   ...   \n323                                1                     0   \n324                                1                     0   \n325                                2                     0   \n326                                0                     0   \n327                                3                     0   \n\n     Binned Evaporation (mm)  Binned Speed of maximum wind gust (km/h)  \\\n0                          2                                         0   \n1                          1                                         1   \n2                          1                                         1   \n3                          1                                         1   \n4                          1                                         1   \n..                       ...                                       ...   \n323                        1                                         0   \n324                        0                                         1   \n325                        2                                         1   \n326                        0                                         0   \n327                        2                                         1   \n\n     Binned TOTAL DEMAND  \n0                      1  \n1                      1  \n2                      2  \n3                      1  \n4                      2  \n..                   ...  \n323                    1  \n324                    3  \n325                    3  \n326                    2  \n327                    2  \n\n[328 rows x 14 columns]\n"
                }
            ],
            "source": [
                "melb_df = pd.read_csv(\"melb_weather_normalized.csv\")\n",
                "pdd_melb_df = pd.read_csv(\"pdd_melb_normalized.csv\")\n",
                "melb_n = pd.merge(melb_df, pdd_melb_df, how='inner')\n",
                "# Select only filtered features\n",
                "melb_n =  melb_n[['Minimum temperature (°C)', 'Mean Temperature (°C)', 'Maximum temperature (°C)', 'Rainfall (mm)', 'Evaporation (mm)', 'Speed of maximum wind gust (km/h)', 'TOTAL DEMAND']]\n",
                "features_dict = {'Minimum temperature (°C)': 5, \"Mean Temperature (°C)\": 5, \"Maximum temperature (°C)\": 5, \"Rainfall (mm)\": 5, \"Evaporation (mm)\": 5, \"Speed of maximum wind gust (km/h)\": 5, \"TOTAL DEMAND\": 5}\n",
                "#features_dict = {'Minimum temperature (°C)': 10, \"Mean Temperature (°C)\": 10, \"Maximum temperature (°C)\": 10, \"Rainfall (mm)\": 10, \"Evaporation (mm)\": 10, \"Speed of maximum wind gust (km/h)\": 10, \"TOTAL DEMAND\": 10}\n",
                "\n",
                "for feature in melb_n.iloc[:,0:]:\n",
                "    equal_width = KBinsDiscretizer(n_bins=features_dict[feature], encode='ordinal', strategy='uniform')\n",
                "    melb_n[\"Binned \" + feature] = equal_width.fit_transform(melb_n[feature].to_numpy().reshape(-1, 1)).astype(int)\n",
                "\n",
                "print(melb_n)"
            ]
        },
        {
            "attachments": {},
            "cell_type": "markdown",
            "metadata": {},
            "source": [
                "Now, we are ready to create our model. First, we proceed by conducting a K-fold cross validation to set up the optimal hyperparameters."
            ]
        },
        {
            "attachments": {},
            "cell_type": "markdown",
            "metadata": {},
            "source": [
                "### K-fold Cross Validation"
            ]
        },
        {
            "cell_type": "code",
            "execution_count": 25,
            "metadata": {},
            "outputs": [],
            "source": [
                "from sklearn.model_selection import KFold "
            ]
        },
        {
            "cell_type": "code",
            "execution_count": 26,
            "metadata": {},
            "outputs": [],
            "source": [
                "kf_CV = KFold(n_splits=10, shuffle=True, random_state=4)\n",
                "data_train = melb_n\n",
                "# Choice of x_cols explained in report\n",
                "x_cols = [\"Binned Mean Temperature (°C)\", \"Binned Evaporation (mm)\"]\n",
                "#x_cols = [\"Binned Minimum temperature (°C)\", \"Binned Mean Temperature (°C)\", \"Binned Maximum temperature (°C)\", \"Binned Evaporation (mm)\", \"Binned Speed of maximum wind gust (km/h)\"]\n",
                "y_cols = \"Binned TOTAL DEMAND\"\n",
                "X = data_train[x_cols]\n",
                "Y = data_train[y_cols]"
            ]
        },
        {
            "attachments": {},
            "cell_type": "markdown",
            "metadata": {},
            "source": [
                "### K Nearest Neigbour"
            ]
        },
        {
            "attachments": {},
            "cell_type": "markdown",
            "metadata": {},
            "source": [
                "Now, we set up the KNN model. First, we use k = 1."
            ]
        },
        {
            "cell_type": "code",
            "execution_count": 27,
            "metadata": {},
            "outputs": [],
            "source": [
                "from sklearn.neighbors import KNeighborsClassifier as KNN\n",
                "from sklearn.metrics import accuracy_score\n",
                "from statistics import mean"
            ]
        },
        {
            "cell_type": "code",
            "execution_count": 28,
            "metadata": {},
            "outputs": [
                {
                    "name": "stdout",
                    "output_type": "stream",
                    "text": "Mean Accuracy of k = 1:  0.40073866239120476\n"
                }
            ],
            "source": [
                "# KNN with k = 1\n",
                "results = []\n",
                "for train_index, test_index in kf_CV.split(X):\n",
                "    X_train = []\n",
                "    X_test = []\n",
                "    Y_train = []\n",
                "    Y_test = []\n",
                "    for index in train_index:\n",
                "        X_train.append(X.iloc[index])\n",
                "        X_test.append(X.iloc[index])\n",
                "        Y_train.append(Y.iloc[index])\n",
                "        Y_test.append(Y.iloc[index])\n",
                "    # Training\n",
                "    knn = KNN(n_neighbors=1)\n",
                "    knn.fit(X_train, Y_train)    \n",
                "    \n",
                "    # Predictions\n",
                "    y_pred = knn.predict(X_test)\n",
                "    results.append(accuracy_score(Y_test, y_pred))\n",
                "print(\"Mean Accuracy of k = 1: \", mean(results))\n",
                ""
            ]
        },
        {
            "attachments": {},
            "cell_type": "markdown",
            "metadata": {},
            "source": [
                "Second, we try k=3."
            ]
        },
        {
            "cell_type": "code",
            "execution_count": 29,
            "metadata": {},
            "outputs": [
                {
                    "name": "stdout",
                    "output_type": "stream",
                    "text": "Mean Accuracy of k = 3:  0.43154145671094823\n"
                }
            ],
            "source": [
                "# KNN with k = 3\n",
                "results = []\n",
                "for train_index, test_index in kf_CV.split(X):\n",
                "    X_train = []\n",
                "    X_test = []\n",
                "    Y_train = []\n",
                "    Y_test = []\n",
                "    for index in train_index:\n",
                "        X_train.append(X.iloc[index])\n",
                "        X_test.append(X.iloc[index])\n",
                "        Y_train.append(Y.iloc[index])\n",
                "        Y_test.append(Y.iloc[index])\n",
                "            \n",
                "    # Training\n",
                "    knn = KNN(n_neighbors=3)\n",
                "    knn.fit(X_train, Y_train)    \n",
                "    \n",
                "    # Predictions\n",
                "    y_pred = knn.predict(X_test)\n",
                "    results.append(accuracy_score(Y_test, y_pred))\n",
                "print(\"Mean Accuracy of k = 3: \", mean(results))\n",
                ""
            ]
        },
        {
            "attachments": {},
            "cell_type": "markdown",
            "metadata": {},
            "source": [
                "We also try k = 5."
            ]
        },
        {
            "cell_type": "code",
            "execution_count": 30,
            "metadata": {},
            "outputs": [
                {
                    "name": "stdout",
                    "output_type": "stream",
                    "text": "Mean Accuracy of k = 5:  0.4461245991754466\n"
                }
            ],
            "source": [
                "# KNN with k = 5\n",
                "results = []\n",
                "for train_index, test_index in kf_CV.split(X):\n",
                "    X_train = []\n",
                "    X_test = []\n",
                "    Y_train = []\n",
                "    Y_test = []\n",
                "    for index in train_index:\n",
                "        X_train.append(X.iloc[index])\n",
                "        X_test.append(X.iloc[index])\n",
                "        Y_train.append(Y.iloc[index])\n",
                "        Y_test.append(Y.iloc[index])\n",
                "            \n",
                "    # Training\n",
                "    knn = KNN(n_neighbors=5)\n",
                "    knn.fit(X_train, Y_train)    \n",
                "    \n",
                "    # Predictions\n",
                "    y_pred = knn.predict(X_test)\n",
                "    results.append(accuracy_score(Y_test, y_pred))\n",
                "print(\"Mean Accuracy of k = 5: \", mean(results))\n",
                ""
            ]
        },
        {
            "attachments": {},
            "cell_type": "markdown",
            "metadata": {},
            "source": [
                "Finally, let's try k = 10."
            ]
        },
        {
            "cell_type": "code",
            "execution_count": 31,
            "metadata": {},
            "outputs": [
                {
                    "name": "stdout",
                    "output_type": "stream",
                    "text": "Mean Accuracy of k = 10:  0.47357879065506187\n"
                }
            ],
            "source": [
                "# KNN with k = 10\n",
                "results = []\n",
                "for train_index, test_index in kf_CV.split(X):\n",
                "    X_train = []\n",
                "    X_test = []\n",
                "    Y_train = []\n",
                "    Y_test = []\n",
                "    for index in train_index:\n",
                "        X_train.append(X.iloc[index])\n",
                "        X_test.append(X.iloc[index])\n",
                "        Y_train.append(Y.iloc[index])\n",
                "        Y_test.append(Y.iloc[index])\n",
                "            \n",
                "    # Training\n",
                "    knn = KNN(n_neighbors=10)\n",
                "    knn.fit(X_train, Y_train)    \n",
                "    \n",
                "    # Predictions\n",
                "    y_pred = knn.predict(X_test)\n",
                "    results.append(accuracy_score(Y_test, y_pred))\n",
                "print(\"Mean Accuracy of k = 10: \", mean(results))"
            ]
        },
        {
            "attachments": {},
            "cell_type": "markdown",
            "metadata": {},
            "source": [
                "-------------------------"
            ]
        },
        {
            "attachments": {},
            "cell_type": "markdown",
            "metadata": {},
            "source": [
                "### Pre-processing of Testing data"
            ]
        },
        {
            "attachments": {},
            "cell_type": "markdown",
            "metadata": {},
            "source": [
                "Before we can do testing, we first pre-process our testing data the same way we pre-processed our training data."
            ]
        },
        {
            "cell_type": "code",
            "execution_count": 32,
            "metadata": {},
            "outputs": [],
            "source": [
                "melb_df_test = pd.read_csv(\"testing_melb_weather.csv\")\n",
                "\n",
                "# Filter data: Only interested in Quantitative, Filtered Data\n",
                "melb_weather_test = melb_df_test[[\"Date\", \"Minimum temperature (°C)\", \"Maximum temperature (°C)\", \"Rainfall (mm)\", \"Evaporation (mm)\", \"Speed of maximum wind gust (km/h)\"]]\n",
                "\n",
                "# Missing Values: Impute Missing Values with Mean Data\n",
                "melb_imputed_test = melb_weather_test[[\"Minimum temperature (°C)\", \"Maximum temperature (°C)\", \"Rainfall (mm)\", \"Evaporation (mm)\", \"Speed of maximum wind gust (km/h)\"]]\n",
                "melb_imputed_test = melb_imputed_test.fillna(melb_imputed_test.mean())\n",
                "\n",
                "# Find Mean Temperature Value and Insert to Dataframe\n",
                "mean_temp_test = []\n",
                "for i in range(len(melb_imputed_test)):\n",
                "    mean_temp_test.append((melb_imputed_test[\"Minimum temperature (°C)\"][i] + melb_imputed_test[\"Maximum temperature (°C)\"][i])/2)\n",
                "melb_imputed_test.insert(2, \"Mean Temperature (°C)\", mean_temp_test)\n",
                "\n",
                "# Include date \n",
                "melb_imputed_test.insert(0, \"Date\", melb_weather_test[\"Date\"])\n",
                "melb_imputed_test.set_index(\"Date\", drop=True, inplace=True)\n",
                "melb_imputed_test.to_csv(\"melb_weather_test.csv\")\n",
                "\n",
                "# Normalize: Rescale the values to be between 0 and 1\n",
                "melb_normalized_test = (melb_imputed_test - melb_imputed_test.min()) / (melb_imputed_test.max() - melb_imputed_test.min())\n",
                "\n",
                "# Output pre-processed normalized Melbourne Weather Dataset as csv\n",
                "melb_normalized_test.to_csv(\"melb_weather_normalized_test.csv\") \n",
                "\n",
                "#Get and normalize price demand datas\n",
                "pdd_melb_test = melb_df_test[[\"Date\", \"TOTAL DEMAND\"]]\n",
                "\n",
                "# Output pre-processed Melbourne Price Demand Dataset as csv\n",
                "pdd_melb_test.to_csv(\"new_pdd_melb.csv\")\n",
                "\n",
                "# Normalize: Rescale the values to be between 0 and 1\n",
                "pdd_melb_normalized_test = (pdd_melb_test[\"TOTAL DEMAND\"] - pdd_melb_test[\"TOTAL DEMAND\"].min()) / (pdd_melb_test[\"TOTAL DEMAND\"].max() - pdd_melb_test[\"TOTAL DEMAND\"].min())\n",
                "pdd_melb_test.insert(1, \"Normalized\", pdd_melb_normalized_test)\n",
                "pdd_melb_test.to_csv(\"pdd_melb_normalized_test.csv\")"
            ]
        },
        {
            "attachments": {},
            "cell_type": "markdown",
            "metadata": {},
            "source": [
                "---"
            ]
        },
        {
            "attachments": {},
            "cell_type": "markdown",
            "metadata": {},
            "source": [
                "### **Testing our KNN Model**"
            ]
        },
        {
            "attachments": {},
            "cell_type": "markdown",
            "metadata": {},
            "source": [
                "Now, we can test our KNN Model with our pre-processed testing dataset"
            ]
        },
        {
            "cell_type": "code",
            "execution_count": 33,
            "metadata": {},
            "outputs": [],
            "source": [
                "from sklearn.metrics import confusion_matrix, ConfusionMatrixDisplay\n",
                "from sklearn.metrics import accuracy_score, recall_score, precision_score, f1_score"
            ]
        },
        {
            "cell_type": "code",
            "execution_count": 34,
            "metadata": {},
            "outputs": [],
            "source": [
                "melb_df_test = pd.read_csv(\"melb_weather_normalized_test.csv\")\n",
                "pdd_melb_df_test = pd.read_csv(\"pdd_melb_normalized_test.csv\")\n",
                "melb_n_test = pd.merge(melb_df_test, pdd_melb_df_test, how='inner')\n",
                "\n",
                "# Select only filtered features\n",
                "melb_n_test =  melb_n_test[['Minimum temperature (°C)', 'Mean Temperature (°C)', 'Maximum temperature (°C)', 'Rainfall (mm)', 'Evaporation (mm)', 'Speed of maximum wind gust (km/h)', 'TOTAL DEMAND']]\n",
                "features_dict = {'Minimum temperature (°C)': 5, \"Mean Temperature (°C)\": 5, \"Maximum temperature (°C)\": 5, \"Rainfall (mm)\": 5, \"Evaporation (mm)\": 5, \"Speed of maximum wind gust (km/h)\": 5, \"TOTAL DEMAND\": 5}\n",
                "#features_dict = {'Minimum temperature (°C)': 10, \"Mean Temperature (°C)\": 10, \"Maximum temperature (°C)\": 10, \"Rainfall (mm)\": 10, \"Evaporation (mm)\": 10, \"Speed of maximum wind gust (km/h)\": 10, \"TOTAL DEMAND\": 10}\n",
                "\n",
                "# Discretize using the same amount of bins\n",
                "for feature in melb_n_test.iloc[:,0:]:\n",
                "    equal_width = KBinsDiscretizer(n_bins=features_dict[feature], encode='ordinal', strategy='uniform')\n",
                "    melb_n_test[\"Binned \" + feature] = equal_width.fit_transform(melb_n_test[feature].to_numpy().reshape(-1, 1)).astype(int)\n",
                ""
            ]
        },
        {
            "attachments": {},
            "cell_type": "markdown",
            "metadata": {},
            "source": [
                "For further analysis, we also plotted the distribution of energy demand."
            ]
        },
        {
            "cell_type": "code",
            "execution_count": 35,
            "metadata": {},
            "outputs": [
                {
                    "data": {
                        "image/png": "[encoded data removed]",
                        "text/plain": "\u003cFigure size 432x288 with 1 Axes\u003e"
                    },
                    "metadata": {
                        "needs_background": "light"
                    },
                    "output_type": "display_data"
                }
            ],
            "source": [
                "melb_td = melb_n_test[\"Binned TOTAL DEMAND\"]\n",
                "melb_td.plot.hist(bins=5)\n",
                "plt.show()\n",
                "plt.savefig(\"Distribution_demand.png\")\n",
                "plt.close()"
            ]
        },
        {
            "cell_type": "code",
            "execution_count": 36,
            "metadata": {},
            "outputs": [],
            "source": [
                "data_test = melb_n_test\n",
                "#x_cols = \"Binned Mean Temperature (°C)\"\n",
                "x_cols = [\"Binned Mean Temperature (°C)\", \"Binned Evaporation (mm)\"]\n",
                "#x_cols = [\"Binned Minimum temperature (°C)\", \"Binned Mean Temperature (°C)\", \"Binned Maximum temperature (°C)\", \"Binned Evaporation (mm)\", \"Binned Speed of maximum wind gust (km/h)\"]\n",
                "y_cols = \"Binned TOTAL DEMAND\"\n",
                "X_test = data_test[x_cols]\n",
                "Y_test = data_test[y_cols]"
            ]
        },
        {
            "cell_type": "code",
            "execution_count": 37,
            "metadata": {},
            "outputs": [
                {
                    "data": {
                        "text/plain": "KNeighborsClassifier(n_neighbors=10)"
                    },
                    "execution_count": 37,
                    "metadata": {},
                    "output_type": "execute_result"
                }
            ],
            "source": [
                "knn = KNN(n_neighbors=10)\n",
                "knn.fit(X, Y)  "
            ]
        },
        {
            "cell_type": "code",
            "execution_count": 38,
            "metadata": {},
            "outputs": [
                {
                    "name": "stdout",
                    "output_type": "stream",
                    "text": "Accuracy 0.40963855421686746\nRecall:  0.3050235690235691\nPrecision:  0.23226214574898787\n"
                }
            ],
            "source": [
                "y_pred = knn.predict(X_test)\n",
                "accuracy = knn.score(X_test, Y_test)\n",
                "print('Accuracy', accuracy)\n",
                "print('Recall: ', recall_score(Y_test, y_pred, average='macro'))\n",
                "print('Precision: ', precision_score(Y_test, y_pred, average=\"macro\", zero_division=0))"
            ]
        },
        {
            "attachments": {},
            "cell_type": "markdown",
            "metadata": {},
            "source": [
                "Although our accuracy may seem rather low, looking at the confusion matrix suggests our model may be better than what the accuracy shows. Since we discretize continuous data, our accuracy scores decrease significantly. However, we see in the confusion matrix that adjacent boxes to the diagonal boxes has a high value. This suggests that our model is able to predict the energy demand over a wider range."
            ]
        },
        {
            "cell_type": "code",
            "execution_count": 39,
            "metadata": {},
            "outputs": [
                {
                    "data": {
                        "image/png": "[encoded data removed]",
                        "text/plain": "\u003cFigure size 432x288 with 2 Axes\u003e"
                    },
                    "metadata": {
                        "needs_background": "light"
                    },
                    "output_type": "display_data"
                }
            ],
            "source": [
                "cm = confusion_matrix(Y_test, y_pred, labels=knn.classes_)\n",
                "ConfusionMatrixDisplay(confusion_matrix=cm, display_labels=knn.classes_).plot()\n",
                "plt.title('Confusion Matrix')\n",
                "plt.savefig(\"confusion_matrix.png\")\n",
                "plt.show()\n",
                "plt.close()"
            ]
        },
        {
            "attachments": {},
            "cell_type": "markdown",
            "metadata": {},
            "source": [
                "***"
            ]
        },
        {
            "attachments": {},
            "cell_type": "markdown",
            "metadata": {},
            "source": [
                "### **Bootstrapping**"
            ]
        },
        {
            "attachments": {},
            "cell_type": "markdown",
            "metadata": {},
            "source": [
                "In case there is an imbalance in the distribution of classes in our dataset, we also tried the bootstrapping method, setting the number of bins = 5 and bootstrap samples (k) = 10"
            ]
        },
        {
            "cell_type": "code",
            "execution_count": 40,
            "metadata": {},
            "outputs": [],
            "source": [
                "from sklearn.utils import resample\n",
                "\n",
                "# Get X, y\n",
                "X_imb = melb_n_test['Binned Mean Temperature (°C)']\n",
                "y_imb = np.array(melb_n_test['Binned TOTAL DEMAND'])\n",
                "X_imb2 = pd.DataFrame(X_imb).to_numpy()\n",
                "\n",
                "accuracies = []\n",
                "precisions = []\n",
                "recalls = []\n",
                "\n",
                "n = X_imb2.shape[0]\n",
                "dataidx = range(n)"
            ]
        },
        {
            "cell_type": "code",
            "execution_count": 41,
            "metadata": {},
            "outputs": [
                {
                    "name": "stdout",
                    "output_type": "stream",
                    "text": "Accuracy from each bootstrap sample: [0.27586206896551724, 0.37037037037037035, 0.36666666666666664, 0.3333333333333333, 0.30303030303030304, 0.2, 0.3055555555555556, 0.1875, 0.3333333333333333, 0.3235294117647059]\nMean accuracy from all bootstrap samples: 0.29991810430197857\nPrecision from each bootstrap sample: [0.27586206896551724, 0.37037037037037035, 0.36666666666666664, 0.3333333333333333, 0.30303030303030304, 0.2, 0.3055555555555556, 0.1875, 0.3333333333333333, 0.3235294117647059]\nMean precision from all bootstrap samples: 0.29991810430197857\nRecall from each bootstrap sample: [0.2857142857142857, 0.7142857142857143, 0.44, 0.5263157894736842, 0.3448275862068966, 0.2692307692307692, 0.5238095238095238, 0.1935483870967742, 0.5555555555555556, 0.5238095238095238]\nMean recall from all bootstrap samples: 0.4377097135182727\n"
                }
            ],
            "source": [
                "k = 10\n",
                "\n",
                "for k in range(10):\n",
                "    # prepare bootstrap sample\n",
                "    boot_index = resample(range(n), replace=True, n_samples=n, random_state=k)\n",
                "    # out of bag observations\n",
                "    oob_index = [x for x in range(n) if x not in boot_index]\n",
                "    # Split datasets\n",
                "    X_imb_train = X_imb2[boot_index,:]\n",
                "    X_imb_test = X_imb2[oob_index,:]\n",
                "    y_imb_train = y_imb[boot_index]\n",
                "    y_imb_test = y_imb[oob_index]\n",
                "    \n",
                "    # Train\n",
                "    knn = KNN(n_neighbors=10)\n",
                "    knn.fit(X_imb_train, y_imb_train)\n",
                "    \n",
                "    # Predict\n",
                "    y_imb_pred=knn.predict(X_imb_test)\n",
                "\n",
                "    # Evaluate\n",
                "    accuracies.append(accuracy_score(y_imb_test, y_imb_pred))\n",
                "    recalls.append(recall_score(y_imb_test, y_imb_pred, average='micro', labels=np.unique(y_imb_pred)))\n",
                "    precisions.append(precision_score(y_imb_test, y_imb_pred, average='micro', labels=np.unique(y_imb_pred)))\n",
                "\n",
                "print(\"Accuracy from each bootstrap sample:\", accuracies)\n",
                "print(\"Mean accuracy from all bootstrap samples:\", np.mean(accuracies))\n",
                "\n",
                "print(\"Precision from each bootstrap sample:\", precisions)\n",
                "print(\"Mean precision from all bootstrap samples:\", np.mean(precisions))\n",
                "\n",
                "print(\"Recall from each bootstrap sample:\", recalls)\n",
                "print(\"Mean recall from all bootstrap samples:\", np.mean(recalls))"
            ]
        },
        {
            "attachments": {},
            "cell_type": "markdown",
            "metadata": {},
            "source": [
                "---"
            ]
        },
        {
            "attachments": {},
            "cell_type": "markdown",
            "metadata": {},
            "source": [
                "## **Polynomial Regression**"
            ]
        },
        {
            "attachments": {},
            "cell_type": "markdown",
            "metadata": {},
            "source": [
                "To further aid us in answering the research question, we also conducted polynomial regression. Through visualizations and calculating mutual information, we find that the weather component that correlates the most with energy demand is mean temperature. Hence, we will conduct regression with mean temperature and energy demand."
            ]
        },
        {
            "cell_type": "code",
            "execution_count": 42,
            "metadata": {},
            "outputs": [],
            "source": [
                "import operator\n",
                "from sklearn.linear_model import LinearRegression\n",
                "from sklearn.metrics import mean_squared_error, r2_score\n",
                "from sklearn.preprocessing import PolynomialFeatures\n",
                ""
            ]
        },
        {
            "cell_type": "code",
            "execution_count": 43,
            "metadata": {},
            "outputs": [],
            "source": [
                "# Prepare train and test data\n",
                "data_train_x = pd.read_csv('melb_weather_normalized.csv')\n",
                "data_train_y = pd.read_csv('pdd_melb_normalized.csv')\n",
                "x_cols = \"Mean Temperature (°C)\"\n",
                "y_cols = \"Normalized\"\n",
                "X = data_train_x[x_cols]\n",
                "Y = data_train_y[y_cols]\n",
                "\n",
                "data_test_x = pd.read_csv('melb_weather_normalized_testing.csv')\n",
                "data_test_y = pd.read_csv('pdd_melb_normalized_testing.csv')\n",
                "X_test = data_test_x[x_cols]\n",
                "Y_test = data_test_y[y_cols]\n",
                "X_test2 = X_test\n",
                "\n",
                "X = np.array(X)\n",
                "X = np.reshape(X, (-1,1))\n",
                "X_test = np.array(X_test)\n",
                "X_test = np.reshape(X_test, (-1,1))"
            ]
        },
        {
            "cell_type": "code",
            "execution_count": 44,
            "metadata": {},
            "outputs": [
                {
                    "data": {
                        "text/plain": "LinearRegression()"
                    },
                    "execution_count": 44,
                    "metadata": {},
                    "output_type": "execute_result"
                }
            ],
            "source": [
                "polynomial_features= PolynomialFeatures(degree=2)\n",
                "x_poly = polynomial_features.fit_transform(X)\n",
                "polynomial_features= PolynomialFeatures(degree=2)\n",
                "X_test = polynomial_features.fit_transform(X_test)\n",
                "\n",
                "model = LinearRegression()\n",
                "model.fit(x_poly, Y)"
            ]
        },
        {
            "attachments": {},
            "cell_type": "markdown",
            "metadata": {},
            "source": [
                "Let us try to plot a curve on the graph of mean temperature against energy demand"
            ]
        },
        {
            "cell_type": "code",
            "execution_count": 45,
            "metadata": {},
            "outputs": [
                {
                    "data": {
                        "image/png": "[encoded data removed]",
                        "text/plain": "\u003cFigure size 432x288 with 1 Axes\u003e"
                    },
                    "metadata": {
                        "needs_background": "light"
                    },
                    "output_type": "display_data"
                }
            ],
            "source": [
                "# PLOT \n",
                "y_poly_pred = model.predict(x_poly)\n",
                "plt.scatter(X, Y, s=10, label=\"Training data\")\n",
                "plt.scatter(X_test2, Y_test, s=10, label=\"Testing data\")\n",
                "\n",
                "# sort the values of x before line plot\n",
                "sort_axis = operator.itemgetter(0)\n",
                "sorted_zip = sorted(zip(X,y_poly_pred), key=sort_axis)\n",
                "X, y_poly_pred = zip(*sorted_zip)\n",
                "plt.plot(X, y_poly_pred, color='m', label='Curve fit')\n",
                "leg = plt.legend();\n",
                "plt.xlabel(\"MeanTemperature (Normalized) \", fontsize=8)\n",
                "plt.ylabel(\"Energy Demand (Normalized)\", fontsize=8)\n",
                "plt.title(\"Polynomial Regression Model of Mean Temperature against Energy Demand\", fontsize=10)\n",
                "plt.savefig(\"5.poly_result_temp.png\")\n",
                "plt.show()"
            ]
        },
        {
            "attachments": {},
            "cell_type": "markdown",
            "metadata": {},
            "source": [
                "Now, we will test our testing set. Here, we produced the $r^2$ value, although this is not a good evaluation for our model since the correlation is non-linear."
            ]
        },
        {
            "cell_type": "code",
            "execution_count": 46,
            "metadata": {},
            "outputs": [
                {
                    "name": "stdout",
                    "output_type": "stream",
                    "text": "R2: 0.11537788431274609\nRMSE: 0.1720214826134744\n"
                }
            ],
            "source": [
                "# TESTING\n",
                "y_pred = model.predict(X_test)\n",
                "r2 = model.score(X_test, Y_test)\n",
                "rmse = np.sqrt(mean_squared_error(Y_test, y_pred))\n",
                "\n",
                "print('R2:', r2)\n",
                "print('RMSE:', rmse)"
            ]
        },
        {
            "attachments": {},
            "cell_type": "markdown",
            "metadata": {},
            "source": [
                "To aid in understanding our results, we will visualize the actual and predicted values of the model."
            ]
        },
        {
            "cell_type": "code",
            "execution_count": 47,
            "metadata": {},
            "outputs": [
                {
                    "data": {
                        "image/png": "[encoded data removed]",
                        "text/plain": "\u003cFigure size 432x288 with 1 Axes\u003e"
                    },
                    "metadata": {
                        "needs_background": "light"
                    },
                    "output_type": "display_data"
                }
            ],
            "source": [
                "plt.scatter(Y_test, y_pred, alpha=0.3)\n",
                "plt.title('Regression (Predict Total)')\n",
                "plt.xlabel('Actual Value')\n",
                "plt.ylabel('Predicted Value')\n",
                "plt.ylim(0, 1)\n",
                "plt.savefig(\"Actual_VS_Predicted.png\")\n",
                "plt.show()\n",
                "plt.close()"
            ]
        },
        {
            "attachments": {},
            "cell_type": "markdown",
            "metadata": {},
            "source": [
                "We will also plot the residuals."
            ]
        },
        {
            "cell_type": "code",
            "execution_count": 48,
            "metadata": {},
            "outputs": [
                {
                    "data": {
                        "image/png": "[encoded data removed]",
                        "text/plain": "\u003cFigure size 432x288 with 1 Axes\u003e"
                    },
                    "metadata": {
                        "needs_background": "light"
                    },
                    "output_type": "display_data"
                }
            ],
            "source": [
                "residuals = Y_test - y_pred\n",
                "# plot residuals\n",
                "plt.scatter(y_pred, residuals, alpha=0.3)\n",
                "# plot the 0 line (we want our residuals close to 0)\n",
                "plt.plot([min(y_pred), max(y_pred)], [0,0], color='red')\n",
                "plt.title('Residual Plot')\n",
                "plt.xlabel('Fitted')\n",
                "plt.ylabel('Residual')\n",
                "plt.savefig(\"Residual_png\")\n",
                ""
            ]
        }
    ]
}
